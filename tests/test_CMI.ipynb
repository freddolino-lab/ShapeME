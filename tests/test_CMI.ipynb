{
 "cells": [
  {
   "cell_type": "code",
   "execution_count": 7,
   "id": "7d7569fd",
   "metadata": {},
   "outputs": [],
   "source": [
    "from importlib import reload\n",
    "import pathlib\n",
    "import os\n",
    "import sys\n",
    "import pickle\n",
    "from pprint import pprint\n",
    "import numba"
   ]
  },
  {
   "cell_type": "code",
   "execution_count": 2,
   "id": "960e7081",
   "metadata": {},
   "outputs": [],
   "source": [
    "this_path = pathlib.Path('.').parent.absolute()\n",
    "src_path = os.path.join(this_path, '..')\n",
    "sys.path.insert(0, src_path)"
   ]
  },
  {
   "cell_type": "code",
   "execution_count": 3,
   "id": "bf88c97e",
   "metadata": {},
   "outputs": [],
   "source": [
    "import dnashapeparams as dsp\n",
    "import find_motifs as fm\n",
    "import numpy as np\n",
    "import inout"
   ]
  },
  {
   "cell_type": "code",
   "execution_count": 4,
   "id": "411a74f0",
   "metadata": {},
   "outputs": [],
   "source": [
    "from matplotlib import pyplot as plt\n",
    "%matplotlib inline"
   ]
  },
  {
   "cell_type": "code",
   "execution_count": 8,
   "id": "c7ab7024",
   "metadata": {},
   "outputs": [],
   "source": [
    "params = [\n",
    "    \"test/BRCA1_input/BRCA1_30_bp_height_train_4.fa.EP\",\n",
    "    \"test/BRCA1_input/BRCA1_30_bp_height_train_4.fa.HelT\",\n",
    "    \"test/BRCA1_input/BRCA1_30_bp_height_train_4.fa.MGW\",\n",
    "    \"test/BRCA1_input/BRCA1_30_bp_height_train_4.fa.ProT\",\n",
    "    \"test/BRCA1_input/BRCA1_30_bp_height_train_4.fa.Roll\",\n",
    "]\n",
    "param_names = [\n",
    "    \"EP\",\n",
    "    \"HelT\",\n",
    "    \"MGW\",\n",
    "    \"ProT\",\n",
    "    \"Roll\",\n",
    "]\n",
    "this_dist = inout.constrained_manhattan_distance\n",
    "search_method = \"brute\"\n",
    "in_file = \"test/BRCA1_input/BRCA1_30_bp_height_train_4.txt\"\n",
    "kmer = 15\n",
    "ignorestart = 2\n",
    "ignoreend = 2\n",
    "threshold_perc = 0.05\n",
    "thresh_sd_from_mean = 2.0\n",
    "threshold_seeds = 2.0\n",
    "threshold_match = 2.0\n",
    "seeds_per_seq_thresh = 1\n",
    "seeds_per_seq = 2\n",
    "num_seeds = 5000\n",
    "rc = False\n",
    "numprocs = 6"
   ]
  },
  {
   "cell_type": "code",
   "execution_count": 9,
   "id": "84804b36",
   "metadata": {},
   "outputs": [],
   "source": [
    "numba.set_num_threads(numprocs)"
   ]
  },
  {
   "cell_type": "code",
   "execution_count": 10,
   "id": "e84d9622",
   "metadata": {},
   "outputs": [],
   "source": [
    "shape_fname_dict = {n:fn for n,fn in zip(param_names, params)}\n",
    "rec_db = inout.RecordDatabase(in_file, shape_fname_dict)\n",
    "rec_db.determine_center_spread()\n",
    "rec_db.normalize_shape_values()\n",
    "rec_db.compute_windows(wsize=15)\n",
    "rec_db.initialize_weights()\n",
    "rec_db.set_initial_thresholds(\n",
    "    dist = this_dist,\n",
    "    threshold_sd_from_mean = thresh_sd_from_mean\n",
    ")"
   ]
  },
  {
   "cell_type": "code",
   "execution_count": 11,
   "id": "458fb544",
   "metadata": {},
   "outputs": [],
   "source": [
    "with open('fwd_rev_initial_mutual_information.pkl','rb') as f:\n",
    "    d = pickle.load(f)\n",
    "    rec_db.mi = d['mi']\n",
    "    rec_db.hits = d['hits']"
   ]
  },
  {
   "cell_type": "code",
   "execution_count": 13,
   "id": "39aba32b",
   "metadata": {},
   "outputs": [
    {
     "data": {
      "text/plain": [
       "(1764, 41, 1764, 2)"
      ]
     },
     "execution_count": 13,
     "metadata": {},
     "output_type": "execute_result"
    }
   ],
   "source": [
    "rec_db.hits.shape"
   ]
  },
  {
   "cell_type": "code",
   "execution_count": null,
   "id": "2d45ecd4",
   "metadata": {},
   "outputs": [],
   "source": [
    "fm = reload(fm)"
   ]
  },
  {
   "cell_type": "code",
   "execution_count": null,
   "id": "615861d3",
   "metadata": {},
   "outputs": [],
   "source": [
    "cmi_windows = fm.aic_motifs2(rec_db)"
   ]
  }
 ],
 "metadata": {
  "kernelspec": {
   "display_name": "Python 3",
   "language": "python",
   "name": "python3"
  },
  "language_info": {
   "codemirror_mode": {
    "name": "ipython",
    "version": 3
   },
   "file_extension": ".py",
   "mimetype": "text/x-python",
   "name": "python",
   "nbconvert_exporter": "python",
   "pygments_lexer": "ipython3",
   "version": "3.9.5"
  }
 },
 "nbformat": 4,
 "nbformat_minor": 5
}
